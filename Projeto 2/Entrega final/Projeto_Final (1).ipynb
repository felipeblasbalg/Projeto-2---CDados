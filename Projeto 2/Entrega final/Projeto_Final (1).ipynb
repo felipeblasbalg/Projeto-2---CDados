{
 "cells": [
  {
   "cell_type": "markdown",
   "metadata": {},
   "source": [
    "# 1 - Projeto 2 Ciência dos dados"
   ]
  },
  {
   "cell_type": "markdown",
   "metadata": {},
   "source": [
    "Grupo:\n",
    "\n",
    "André Faia; Arthur Fuhrken; Felipe Blasbalg; Flávio Squillante\n",
    "\n",
    "2°A Insper 2020.2"
   ]
  },
  {
   "cell_type": "markdown",
   "metadata": {},
   "source": [
    "# Introdução"
   ]
  },
  {
   "cell_type": "markdown",
   "metadata": {},
   "source": [
    "O dataset escolhido para o trabalho foi escolhido com o intuito de prever a popularidade de uma música segundo o ano em que foi lançada e o volume em decibéis."
   ]
  },
  {
   "cell_type": "markdown",
   "metadata": {},
   "source": [
    "# 2 - Importar e limpar os dados"
   ]
  },
  {
   "cell_type": "markdown",
   "metadata": {},
   "source": [
    "**Bibliotecas a serem importadas e utilizadas**"
   ]
  },
  {
   "cell_type": "code",
   "execution_count": 1,
   "metadata": {},
   "outputs": [],
   "source": [
    "%matplotlib inline\n",
    "import pandas as pd\n",
    "\n",
    "import numpy as np\n",
    "from scipy import stats\n",
    "import matplotlib.pyplot as plt\n",
    "import statsmodels.api as sm\n",
    "from IPython.display import display\n",
    "import seaborn as sns\n",
    "from mpl_toolkits.mplot3d import Axes3D"
   ]
  },
  {
   "cell_type": "markdown",
   "metadata": {},
   "source": [
    "**Leitura do dataset e remoção de partes do mesmo que não utilizaremos**"
   ]
  },
  {
   "cell_type": "code",
   "execution_count": 2,
   "metadata": {},
   "outputs": [
    {
     "data": {
      "text/html": [
       "<div>\n",
       "<style scoped>\n",
       "    .dataframe tbody tr th:only-of-type {\n",
       "        vertical-align: middle;\n",
       "    }\n",
       "\n",
       "    .dataframe tbody tr th {\n",
       "        vertical-align: top;\n",
       "    }\n",
       "\n",
       "    .dataframe thead th {\n",
       "        text-align: right;\n",
       "    }\n",
       "</style>\n",
       "<table border=\"1\" class=\"dataframe\">\n",
       "  <thead>\n",
       "    <tr style=\"text-align: right;\">\n",
       "      <th></th>\n",
       "      <th>Num</th>\n",
       "      <th>year</th>\n",
       "      <th>bpm</th>\n",
       "      <th>nrgy</th>\n",
       "      <th>dnce</th>\n",
       "      <th>dB</th>\n",
       "      <th>live</th>\n",
       "      <th>val</th>\n",
       "      <th>dur</th>\n",
       "      <th>acous</th>\n",
       "      <th>spch</th>\n",
       "      <th>pop</th>\n",
       "    </tr>\n",
       "  </thead>\n",
       "  <tbody>\n",
       "    <tr>\n",
       "      <td>0</td>\n",
       "      <td>1</td>\n",
       "      <td>2010</td>\n",
       "      <td>97</td>\n",
       "      <td>89</td>\n",
       "      <td>67</td>\n",
       "      <td>-4</td>\n",
       "      <td>8</td>\n",
       "      <td>80</td>\n",
       "      <td>217</td>\n",
       "      <td>19</td>\n",
       "      <td>4</td>\n",
       "      <td>83</td>\n",
       "    </tr>\n",
       "    <tr>\n",
       "      <td>1</td>\n",
       "      <td>2</td>\n",
       "      <td>2010</td>\n",
       "      <td>87</td>\n",
       "      <td>93</td>\n",
       "      <td>75</td>\n",
       "      <td>-5</td>\n",
       "      <td>52</td>\n",
       "      <td>64</td>\n",
       "      <td>263</td>\n",
       "      <td>24</td>\n",
       "      <td>23</td>\n",
       "      <td>82</td>\n",
       "    </tr>\n",
       "    <tr>\n",
       "      <td>2</td>\n",
       "      <td>3</td>\n",
       "      <td>2010</td>\n",
       "      <td>120</td>\n",
       "      <td>84</td>\n",
       "      <td>76</td>\n",
       "      <td>-3</td>\n",
       "      <td>29</td>\n",
       "      <td>71</td>\n",
       "      <td>200</td>\n",
       "      <td>10</td>\n",
       "      <td>14</td>\n",
       "      <td>80</td>\n",
       "    </tr>\n",
       "    <tr>\n",
       "      <td>3</td>\n",
       "      <td>4</td>\n",
       "      <td>2010</td>\n",
       "      <td>119</td>\n",
       "      <td>92</td>\n",
       "      <td>70</td>\n",
       "      <td>-4</td>\n",
       "      <td>8</td>\n",
       "      <td>71</td>\n",
       "      <td>295</td>\n",
       "      <td>0</td>\n",
       "      <td>4</td>\n",
       "      <td>79</td>\n",
       "    </tr>\n",
       "    <tr>\n",
       "      <td>4</td>\n",
       "      <td>5</td>\n",
       "      <td>2010</td>\n",
       "      <td>109</td>\n",
       "      <td>84</td>\n",
       "      <td>64</td>\n",
       "      <td>-5</td>\n",
       "      <td>9</td>\n",
       "      <td>43</td>\n",
       "      <td>221</td>\n",
       "      <td>2</td>\n",
       "      <td>4</td>\n",
       "      <td>78</td>\n",
       "    </tr>\n",
       "    <tr>\n",
       "      <td>...</td>\n",
       "      <td>...</td>\n",
       "      <td>...</td>\n",
       "      <td>...</td>\n",
       "      <td>...</td>\n",
       "      <td>...</td>\n",
       "      <td>...</td>\n",
       "      <td>...</td>\n",
       "      <td>...</td>\n",
       "      <td>...</td>\n",
       "      <td>...</td>\n",
       "      <td>...</td>\n",
       "      <td>...</td>\n",
       "    </tr>\n",
       "    <tr>\n",
       "      <td>597</td>\n",
       "      <td>598</td>\n",
       "      <td>2019</td>\n",
       "      <td>104</td>\n",
       "      <td>66</td>\n",
       "      <td>61</td>\n",
       "      <td>-7</td>\n",
       "      <td>20</td>\n",
       "      <td>16</td>\n",
       "      <td>176</td>\n",
       "      <td>1</td>\n",
       "      <td>3</td>\n",
       "      <td>75</td>\n",
       "    </tr>\n",
       "    <tr>\n",
       "      <td>598</td>\n",
       "      <td>599</td>\n",
       "      <td>2019</td>\n",
       "      <td>95</td>\n",
       "      <td>79</td>\n",
       "      <td>75</td>\n",
       "      <td>-6</td>\n",
       "      <td>7</td>\n",
       "      <td>61</td>\n",
       "      <td>206</td>\n",
       "      <td>21</td>\n",
       "      <td>12</td>\n",
       "      <td>75</td>\n",
       "    </tr>\n",
       "    <tr>\n",
       "      <td>599</td>\n",
       "      <td>600</td>\n",
       "      <td>2019</td>\n",
       "      <td>136</td>\n",
       "      <td>76</td>\n",
       "      <td>53</td>\n",
       "      <td>-5</td>\n",
       "      <td>9</td>\n",
       "      <td>65</td>\n",
       "      <td>260</td>\n",
       "      <td>7</td>\n",
       "      <td>34</td>\n",
       "      <td>70</td>\n",
       "    </tr>\n",
       "    <tr>\n",
       "      <td>600</td>\n",
       "      <td>601</td>\n",
       "      <td>2019</td>\n",
       "      <td>114</td>\n",
       "      <td>79</td>\n",
       "      <td>60</td>\n",
       "      <td>-6</td>\n",
       "      <td>42</td>\n",
       "      <td>24</td>\n",
       "      <td>217</td>\n",
       "      <td>1</td>\n",
       "      <td>7</td>\n",
       "      <td>69</td>\n",
       "    </tr>\n",
       "    <tr>\n",
       "      <td>601</td>\n",
       "      <td>602</td>\n",
       "      <td>2019</td>\n",
       "      <td>150</td>\n",
       "      <td>44</td>\n",
       "      <td>70</td>\n",
       "      <td>-9</td>\n",
       "      <td>13</td>\n",
       "      <td>23</td>\n",
       "      <td>213</td>\n",
       "      <td>6</td>\n",
       "      <td>6</td>\n",
       "      <td>67</td>\n",
       "    </tr>\n",
       "  </tbody>\n",
       "</table>\n",
       "<p>602 rows × 12 columns</p>\n",
       "</div>"
      ],
      "text/plain": [
       "     Num  year  bpm  nrgy  dnce  dB  live  val  dur  acous  spch  pop\n",
       "0      1  2010   97    89    67  -4     8   80  217     19     4   83\n",
       "1      2  2010   87    93    75  -5    52   64  263     24    23   82\n",
       "2      3  2010  120    84    76  -3    29   71  200     10    14   80\n",
       "3      4  2010  119    92    70  -4     8   71  295      0     4   79\n",
       "4      5  2010  109    84    64  -5     9   43  221      2     4   78\n",
       "..   ...   ...  ...   ...   ...  ..   ...  ...  ...    ...   ...  ...\n",
       "597  598  2019  104    66    61  -7    20   16  176      1     3   75\n",
       "598  599  2019   95    79    75  -6     7   61  206     21    12   75\n",
       "599  600  2019  136    76    53  -5     9   65  260      7    34   70\n",
       "600  601  2019  114    79    60  -6    42   24  217      1     7   69\n",
       "601  602  2019  150    44    70  -9    13   23  213      6     6   67\n",
       "\n",
       "[602 rows x 12 columns]"
      ]
     },
     "execution_count": 2,
     "metadata": {},
     "output_type": "execute_result"
    }
   ],
   "source": [
    "musica = pd.read_excel('top10s.xlsx')\n",
    "\n",
    "del musica['title']\n",
    "del musica['artist']\n",
    "del musica['top genre']\n",
    "\n",
    "data = pd.DataFrame(musica)\n",
    "\n",
    "data"
   ]
  },
  {
   "cell_type": "markdown",
   "metadata": {},
   "source": [
    "**Criação da função de regressão linear**"
   ]
  },
  {
   "cell_type": "code",
   "execution_count": 3,
   "metadata": {},
   "outputs": [],
   "source": [
    "def regress(y,x):\n",
    "    X_cp = sm.add_constant(x)\n",
    "    model = sm.OLS(y,X_cp)\n",
    "    results = model.fit()\n",
    "    \n",
    "    return results"
   ]
  },
  {
   "cell_type": "markdown",
   "metadata": {},
   "source": [
    "# 3 - Análise do dataset"
   ]
  },
  {
   "cell_type": "markdown",
   "metadata": {},
   "source": [
    "Aqui observamos valores chaves do dataset para analisarmos se todos os dados estavam coerentes e fazendo sentido"
   ]
  },
  {
   "cell_type": "markdown",
   "metadata": {},
   "source": [
    "**Print de informações úteis do dataset** "
   ]
  },
  {
   "cell_type": "code",
   "execution_count": 4,
   "metadata": {},
   "outputs": [
    {
     "data": {
      "text/html": [
       "<div>\n",
       "<style scoped>\n",
       "    .dataframe tbody tr th:only-of-type {\n",
       "        vertical-align: middle;\n",
       "    }\n",
       "\n",
       "    .dataframe tbody tr th {\n",
       "        vertical-align: top;\n",
       "    }\n",
       "\n",
       "    .dataframe thead th {\n",
       "        text-align: right;\n",
       "    }\n",
       "</style>\n",
       "<table border=\"1\" class=\"dataframe\">\n",
       "  <thead>\n",
       "    <tr style=\"text-align: right;\">\n",
       "      <th></th>\n",
       "      <th>Num</th>\n",
       "      <th>year</th>\n",
       "      <th>bpm</th>\n",
       "      <th>nrgy</th>\n",
       "      <th>dnce</th>\n",
       "      <th>dB</th>\n",
       "      <th>live</th>\n",
       "      <th>val</th>\n",
       "      <th>dur</th>\n",
       "      <th>acous</th>\n",
       "      <th>spch</th>\n",
       "      <th>pop</th>\n",
       "    </tr>\n",
       "  </thead>\n",
       "  <tbody>\n",
       "    <tr>\n",
       "      <td>count</td>\n",
       "      <td>602.000000</td>\n",
       "      <td>602.000000</td>\n",
       "      <td>602.000000</td>\n",
       "      <td>602.000000</td>\n",
       "      <td>602.000000</td>\n",
       "      <td>602.000000</td>\n",
       "      <td>602.000000</td>\n",
       "      <td>602.000000</td>\n",
       "      <td>602.000000</td>\n",
       "      <td>602.000000</td>\n",
       "      <td>602.000000</td>\n",
       "      <td>602.000000</td>\n",
       "    </tr>\n",
       "    <tr>\n",
       "      <td>mean</td>\n",
       "      <td>301.500000</td>\n",
       "      <td>2014.586379</td>\n",
       "      <td>118.568106</td>\n",
       "      <td>70.478405</td>\n",
       "      <td>64.370432</td>\n",
       "      <td>-5.579734</td>\n",
       "      <td>17.800664</td>\n",
       "      <td>52.157807</td>\n",
       "      <td>224.687708</td>\n",
       "      <td>14.347176</td>\n",
       "      <td>8.355482</td>\n",
       "      <td>66.501661</td>\n",
       "    </tr>\n",
       "    <tr>\n",
       "      <td>std</td>\n",
       "      <td>173.926709</td>\n",
       "      <td>2.605513</td>\n",
       "      <td>24.809816</td>\n",
       "      <td>16.311966</td>\n",
       "      <td>13.387878</td>\n",
       "      <td>2.800247</td>\n",
       "      <td>13.097616</td>\n",
       "      <td>22.470169</td>\n",
       "      <td>34.157005</td>\n",
       "      <td>20.777341</td>\n",
       "      <td>7.489085</td>\n",
       "      <td>14.522259</td>\n",
       "    </tr>\n",
       "    <tr>\n",
       "      <td>min</td>\n",
       "      <td>1.000000</td>\n",
       "      <td>2010.000000</td>\n",
       "      <td>0.000000</td>\n",
       "      <td>0.000000</td>\n",
       "      <td>0.000000</td>\n",
       "      <td>-60.000000</td>\n",
       "      <td>0.000000</td>\n",
       "      <td>0.000000</td>\n",
       "      <td>134.000000</td>\n",
       "      <td>0.000000</td>\n",
       "      <td>0.000000</td>\n",
       "      <td>0.000000</td>\n",
       "    </tr>\n",
       "    <tr>\n",
       "      <td>25%</td>\n",
       "      <td>151.250000</td>\n",
       "      <td>2013.000000</td>\n",
       "      <td>100.000000</td>\n",
       "      <td>61.000000</td>\n",
       "      <td>57.000000</td>\n",
       "      <td>-6.000000</td>\n",
       "      <td>9.000000</td>\n",
       "      <td>35.000000</td>\n",
       "      <td>202.000000</td>\n",
       "      <td>2.000000</td>\n",
       "      <td>4.000000</td>\n",
       "      <td>60.000000</td>\n",
       "    </tr>\n",
       "    <tr>\n",
       "      <td>50%</td>\n",
       "      <td>301.500000</td>\n",
       "      <td>2015.000000</td>\n",
       "      <td>120.000000</td>\n",
       "      <td>74.000000</td>\n",
       "      <td>66.000000</td>\n",
       "      <td>-5.000000</td>\n",
       "      <td>12.000000</td>\n",
       "      <td>52.000000</td>\n",
       "      <td>221.000000</td>\n",
       "      <td>6.000000</td>\n",
       "      <td>5.000000</td>\n",
       "      <td>69.000000</td>\n",
       "    </tr>\n",
       "    <tr>\n",
       "      <td>75%</td>\n",
       "      <td>451.750000</td>\n",
       "      <td>2017.000000</td>\n",
       "      <td>129.000000</td>\n",
       "      <td>82.000000</td>\n",
       "      <td>73.000000</td>\n",
       "      <td>-4.000000</td>\n",
       "      <td>24.000000</td>\n",
       "      <td>69.000000</td>\n",
       "      <td>239.750000</td>\n",
       "      <td>17.000000</td>\n",
       "      <td>9.000000</td>\n",
       "      <td>76.000000</td>\n",
       "    </tr>\n",
       "    <tr>\n",
       "      <td>max</td>\n",
       "      <td>602.000000</td>\n",
       "      <td>2019.000000</td>\n",
       "      <td>206.000000</td>\n",
       "      <td>98.000000</td>\n",
       "      <td>97.000000</td>\n",
       "      <td>-2.000000</td>\n",
       "      <td>74.000000</td>\n",
       "      <td>98.000000</td>\n",
       "      <td>424.000000</td>\n",
       "      <td>99.000000</td>\n",
       "      <td>48.000000</td>\n",
       "      <td>99.000000</td>\n",
       "    </tr>\n",
       "  </tbody>\n",
       "</table>\n",
       "</div>"
      ],
      "text/plain": [
       "              Num         year         bpm        nrgy        dnce  \\\n",
       "count  602.000000   602.000000  602.000000  602.000000  602.000000   \n",
       "mean   301.500000  2014.586379  118.568106   70.478405   64.370432   \n",
       "std    173.926709     2.605513   24.809816   16.311966   13.387878   \n",
       "min      1.000000  2010.000000    0.000000    0.000000    0.000000   \n",
       "25%    151.250000  2013.000000  100.000000   61.000000   57.000000   \n",
       "50%    301.500000  2015.000000  120.000000   74.000000   66.000000   \n",
       "75%    451.750000  2017.000000  129.000000   82.000000   73.000000   \n",
       "max    602.000000  2019.000000  206.000000   98.000000   97.000000   \n",
       "\n",
       "               dB        live         val         dur       acous        spch  \\\n",
       "count  602.000000  602.000000  602.000000  602.000000  602.000000  602.000000   \n",
       "mean    -5.579734   17.800664   52.157807  224.687708   14.347176    8.355482   \n",
       "std      2.800247   13.097616   22.470169   34.157005   20.777341    7.489085   \n",
       "min    -60.000000    0.000000    0.000000  134.000000    0.000000    0.000000   \n",
       "25%     -6.000000    9.000000   35.000000  202.000000    2.000000    4.000000   \n",
       "50%     -5.000000   12.000000   52.000000  221.000000    6.000000    5.000000   \n",
       "75%     -4.000000   24.000000   69.000000  239.750000   17.000000    9.000000   \n",
       "max     -2.000000   74.000000   98.000000  424.000000   99.000000   48.000000   \n",
       "\n",
       "              pop  \n",
       "count  602.000000  \n",
       "mean    66.501661  \n",
       "std     14.522259  \n",
       "min      0.000000  \n",
       "25%     60.000000  \n",
       "50%     69.000000  \n",
       "75%     76.000000  \n",
       "max     99.000000  "
      ]
     },
     "execution_count": 4,
     "metadata": {},
     "output_type": "execute_result"
    }
   ],
   "source": [
    "data.describe()"
   ]
  },
  {
   "cell_type": "markdown",
   "metadata": {},
   "source": [
    "**Verificação se há ausência de algum número dentro do dataset**"
   ]
  },
  {
   "cell_type": "code",
   "execution_count": 5,
   "metadata": {},
   "outputs": [
    {
     "data": {
      "text/plain": [
       "Num      0\n",
       "year     0\n",
       "bpm      0\n",
       "nrgy     0\n",
       "dnce     0\n",
       "dB       0\n",
       "live     0\n",
       "val      0\n",
       "dur      0\n",
       "acous    0\n",
       "spch     0\n",
       "pop      0\n",
       "dtype: int64"
      ]
     },
     "execution_count": 5,
     "metadata": {},
     "output_type": "execute_result"
    }
   ],
   "source": [
    "data.isnull().sum()"
   ]
  },
  {
   "cell_type": "markdown",
   "metadata": {},
   "source": [
    "**Print dos gráficos de correlação entre as informações do dataset**"
   ]
  },
  {
   "cell_type": "code",
   "execution_count": 6,
   "metadata": {},
   "outputs": [],
   "source": [
    "sns.pairplot(data, height=1.5);"
   ]
  },
  {
   "cell_type": "markdown",
   "metadata": {},
   "source": [
    "**X = Variável que será prevista** \n",
    "\n",
    "**Y = Variáveis que serão utilizadas para previsão**"
   ]
  },
  {
   "cell_type": "code",
   "execution_count": 7,
   "metadata": {},
   "outputs": [],
   "source": [
    "x = data['pop']\n",
    "y = data[['year','bpm','nrgy','dnce','dB','live','val','dur','acous','spch']]"
   ]
  },
  {
   "cell_type": "markdown",
   "metadata": {},
   "source": [
    "**Separação dos dados em treino e teste**"
   ]
  },
  {
   "cell_type": "code",
   "execution_count": 8,
   "metadata": {},
   "outputs": [],
   "source": [
    "from sklearn.model_selection import train_test_split\n",
    "x_train, x_test, y_train, y_test = train_test_split(y, x, test_size=0.2, random_state=42)"
   ]
  },
  {
   "cell_type": "markdown",
   "metadata": {},
   "source": [
    "**Análise descritiva do dataset**"
   ]
  },
  {
   "cell_type": "code",
   "execution_count": 9,
   "metadata": {},
   "outputs": [
    {
     "name": "stderr",
     "output_type": "stream",
     "text": [
      "C:\\Users\\andre\\AppData\\Local\\Continuum\\anaconda3\\lib\\site-packages\\numpy\\core\\fromnumeric.py:2389: FutureWarning: Method .ptp is deprecated and will be removed in a future version. Use numpy.ptp instead.\n",
      "  return ptp(axis=axis, out=out, **kwargs)\n"
     ]
    },
    {
     "data": {
      "text/html": [
       "<table class=\"simpletable\">\n",
       "<caption>OLS Regression Results</caption>\n",
       "<tr>\n",
       "  <th>Dep. Variable:</th>           <td>pop</td>       <th>  R-squared:         </th> <td>   0.090</td>\n",
       "</tr>\n",
       "<tr>\n",
       "  <th>Model:</th>                   <td>OLS</td>       <th>  Adj. R-squared:    </th> <td>   0.070</td>\n",
       "</tr>\n",
       "<tr>\n",
       "  <th>Method:</th>             <td>Least Squares</td>  <th>  F-statistic:       </th> <td>   4.628</td>\n",
       "</tr>\n",
       "<tr>\n",
       "  <th>Date:</th>             <td>Tue, 24 Nov 2020</td> <th>  Prob (F-statistic):</th> <td>2.66e-06</td>\n",
       "</tr>\n",
       "<tr>\n",
       "  <th>Time:</th>                 <td>21:51:39</td>     <th>  Log-Likelihood:    </th> <td> -1937.4</td>\n",
       "</tr>\n",
       "<tr>\n",
       "  <th>No. Observations:</th>      <td>   481</td>      <th>  AIC:               </th> <td>   3897.</td>\n",
       "</tr>\n",
       "<tr>\n",
       "  <th>Df Residuals:</th>          <td>   470</td>      <th>  BIC:               </th> <td>   3943.</td>\n",
       "</tr>\n",
       "<tr>\n",
       "  <th>Df Model:</th>              <td>    10</td>      <th>                     </th>     <td> </td>   \n",
       "</tr>\n",
       "<tr>\n",
       "  <th>Covariance Type:</th>      <td>nonrobust</td>    <th>                     </th>     <td> </td>   \n",
       "</tr>\n",
       "</table>\n",
       "<table class=\"simpletable\">\n",
       "<tr>\n",
       "    <td></td>       <th>coef</th>     <th>std err</th>      <th>t</th>      <th>P>|t|</th>  <th>[0.025</th>    <th>0.975]</th>  \n",
       "</tr>\n",
       "<tr>\n",
       "  <th>const</th> <td>-2669.5575</td> <td>  530.067</td> <td>   -5.036</td> <td> 0.000</td> <td>-3711.152</td> <td>-1627.963</td>\n",
       "</tr>\n",
       "<tr>\n",
       "  <th>year</th>  <td>    1.3628</td> <td>    0.262</td> <td>    5.196</td> <td> 0.000</td> <td>    0.847</td> <td>    1.878</td>\n",
       "</tr>\n",
       "<tr>\n",
       "  <th>bpm</th>   <td>    0.0191</td> <td>    0.026</td> <td>    0.734</td> <td> 0.463</td> <td>   -0.032</td> <td>    0.070</td>\n",
       "</tr>\n",
       "<tr>\n",
       "  <th>nrgy</th>  <td>   -0.1215</td> <td>    0.065</td> <td>   -1.872</td> <td> 0.062</td> <td>   -0.249</td> <td>    0.006</td>\n",
       "</tr>\n",
       "<tr>\n",
       "  <th>dnce</th>  <td>    0.0561</td> <td>    0.058</td> <td>    0.973</td> <td> 0.331</td> <td>   -0.057</td> <td>    0.169</td>\n",
       "</tr>\n",
       "<tr>\n",
       "  <th>dB</th>    <td>    1.0134</td> <td>    0.495</td> <td>    2.045</td> <td> 0.041</td> <td>    0.040</td> <td>    1.987</td>\n",
       "</tr>\n",
       "<tr>\n",
       "  <th>live</th>  <td>   -0.0222</td> <td>    0.049</td> <td>   -0.457</td> <td> 0.648</td> <td>   -0.118</td> <td>    0.073</td>\n",
       "</tr>\n",
       "<tr>\n",
       "  <th>val</th>   <td>    0.0332</td> <td>    0.037</td> <td>    0.887</td> <td> 0.376</td> <td>   -0.040</td> <td>    0.107</td>\n",
       "</tr>\n",
       "<tr>\n",
       "  <th>dur</th>   <td>   -0.0064</td> <td>    0.020</td> <td>   -0.325</td> <td> 0.745</td> <td>   -0.045</td> <td>    0.032</td>\n",
       "</tr>\n",
       "<tr>\n",
       "  <th>acous</th> <td>   -0.0362</td> <td>    0.039</td> <td>   -0.926</td> <td> 0.355</td> <td>   -0.113</td> <td>    0.041</td>\n",
       "</tr>\n",
       "<tr>\n",
       "  <th>spch</th>  <td>   -0.0709</td> <td>    0.086</td> <td>   -0.824</td> <td> 0.410</td> <td>   -0.240</td> <td>    0.098</td>\n",
       "</tr>\n",
       "</table>\n",
       "<table class=\"simpletable\">\n",
       "<tr>\n",
       "  <th>Omnibus:</th>       <td>157.541</td> <th>  Durbin-Watson:     </th> <td>   1.803</td> \n",
       "</tr>\n",
       "<tr>\n",
       "  <th>Prob(Omnibus):</th> <td> 0.000</td>  <th>  Jarque-Bera (JB):  </th> <td> 500.264</td> \n",
       "</tr>\n",
       "<tr>\n",
       "  <th>Skew:</th>          <td>-1.530</td>  <th>  Prob(JB):          </th> <td>2.34e-109</td>\n",
       "</tr>\n",
       "<tr>\n",
       "  <th>Kurtosis:</th>      <td> 6.950</td>  <th>  Cond. No.          </th> <td>1.72e+06</td> \n",
       "</tr>\n",
       "</table><br/><br/>Warnings:<br/>[1] Standard Errors assume that the covariance matrix of the errors is correctly specified.<br/>[2] The condition number is large, 1.72e+06. This might indicate that there are<br/>strong multicollinearity or other numerical problems."
      ],
      "text/plain": [
       "<class 'statsmodels.iolib.summary.Summary'>\n",
       "\"\"\"\n",
       "                            OLS Regression Results                            \n",
       "==============================================================================\n",
       "Dep. Variable:                    pop   R-squared:                       0.090\n",
       "Model:                            OLS   Adj. R-squared:                  0.070\n",
       "Method:                 Least Squares   F-statistic:                     4.628\n",
       "Date:                Tue, 24 Nov 2020   Prob (F-statistic):           2.66e-06\n",
       "Time:                        21:51:39   Log-Likelihood:                -1937.4\n",
       "No. Observations:                 481   AIC:                             3897.\n",
       "Df Residuals:                     470   BIC:                             3943.\n",
       "Df Model:                          10                                         \n",
       "Covariance Type:            nonrobust                                         \n",
       "==============================================================================\n",
       "                 coef    std err          t      P>|t|      [0.025      0.975]\n",
       "------------------------------------------------------------------------------\n",
       "const      -2669.5575    530.067     -5.036      0.000   -3711.152   -1627.963\n",
       "year           1.3628      0.262      5.196      0.000       0.847       1.878\n",
       "bpm            0.0191      0.026      0.734      0.463      -0.032       0.070\n",
       "nrgy          -0.1215      0.065     -1.872      0.062      -0.249       0.006\n",
       "dnce           0.0561      0.058      0.973      0.331      -0.057       0.169\n",
       "dB             1.0134      0.495      2.045      0.041       0.040       1.987\n",
       "live          -0.0222      0.049     -0.457      0.648      -0.118       0.073\n",
       "val            0.0332      0.037      0.887      0.376      -0.040       0.107\n",
       "dur           -0.0064      0.020     -0.325      0.745      -0.045       0.032\n",
       "acous         -0.0362      0.039     -0.926      0.355      -0.113       0.041\n",
       "spch          -0.0709      0.086     -0.824      0.410      -0.240       0.098\n",
       "==============================================================================\n",
       "Omnibus:                      157.541   Durbin-Watson:                   1.803\n",
       "Prob(Omnibus):                  0.000   Jarque-Bera (JB):              500.264\n",
       "Skew:                          -1.530   Prob(JB):                    2.34e-109\n",
       "Kurtosis:                       6.950   Cond. No.                     1.72e+06\n",
       "==============================================================================\n",
       "\n",
       "Warnings:\n",
       "[1] Standard Errors assume that the covariance matrix of the errors is correctly specified.\n",
       "[2] The condition number is large, 1.72e+06. This might indicate that there are\n",
       "strong multicollinearity or other numerical problems.\n",
       "\"\"\""
      ]
     },
     "execution_count": 9,
     "metadata": {},
     "output_type": "execute_result"
    }
   ],
   "source": [
    "results = regress(y_train,x_train)\n",
    "results.summary()"
   ]
  },
  {
   "cell_type": "markdown",
   "metadata": {},
   "source": [
    "Para a previsão que optamos fazer definimos um alfa de 10%, ficando com dois dos dados que se encaixaram nesse alfa."
   ]
  },
  {
   "cell_type": "markdown",
   "metadata": {},
   "source": [
    "**Divisão do dataset com somente as variáveis significativas que seguem nosso alfa**"
   ]
  },
  {
   "cell_type": "code",
   "execution_count": 10,
   "metadata": {},
   "outputs": [],
   "source": [
    "df = data[['year','dB']]\n",
    "df_train, df_test = train_test_split(df, test_size=0.2, random_state=42)"
   ]
  },
  {
   "cell_type": "markdown",
   "metadata": {},
   "source": [
    "**Análise descritiva do dataset**"
   ]
  },
  {
   "cell_type": "code",
   "execution_count": 11,
   "metadata": {},
   "outputs": [
    {
     "data": {
      "text/html": [
       "<table class=\"simpletable\">\n",
       "<caption>OLS Regression Results</caption>\n",
       "<tr>\n",
       "  <th>Dep. Variable:</th>           <td>pop</td>       <th>  R-squared:         </th> <td>   0.071</td>\n",
       "</tr>\n",
       "<tr>\n",
       "  <th>Model:</th>                   <td>OLS</td>       <th>  Adj. R-squared:    </th> <td>   0.067</td>\n",
       "</tr>\n",
       "<tr>\n",
       "  <th>Method:</th>             <td>Least Squares</td>  <th>  F-statistic:       </th> <td>   18.36</td>\n",
       "</tr>\n",
       "<tr>\n",
       "  <th>Date:</th>             <td>Tue, 24 Nov 2020</td> <th>  Prob (F-statistic):</th> <td>2.07e-08</td>\n",
       "</tr>\n",
       "<tr>\n",
       "  <th>Time:</th>                 <td>21:51:39</td>     <th>  Log-Likelihood:    </th> <td> -1942.2</td>\n",
       "</tr>\n",
       "<tr>\n",
       "  <th>No. Observations:</th>      <td>   481</td>      <th>  AIC:               </th> <td>   3890.</td>\n",
       "</tr>\n",
       "<tr>\n",
       "  <th>Df Residuals:</th>          <td>   478</td>      <th>  BIC:               </th> <td>   3903.</td>\n",
       "</tr>\n",
       "<tr>\n",
       "  <th>Df Model:</th>              <td>     2</td>      <th>                     </th>     <td> </td>   \n",
       "</tr>\n",
       "<tr>\n",
       "  <th>Covariance Type:</th>      <td>nonrobust</td>    <th>                     </th>     <td> </td>   \n",
       "</tr>\n",
       "</table>\n",
       "<table class=\"simpletable\">\n",
       "<tr>\n",
       "    <td></td>       <th>coef</th>     <th>std err</th>      <th>t</th>      <th>P>|t|</th>  <th>[0.025</th>    <th>0.975]</th>  \n",
       "</tr>\n",
       "<tr>\n",
       "  <th>const</th> <td>-2910.5295</td> <td>  498.425</td> <td>   -5.839</td> <td> 0.000</td> <td>-3889.905</td> <td>-1931.154</td>\n",
       "</tr>\n",
       "<tr>\n",
       "  <th>year</th>  <td>    1.4796</td> <td>    0.248</td> <td>    5.977</td> <td> 0.000</td> <td>    0.993</td> <td>    1.966</td>\n",
       "</tr>\n",
       "<tr>\n",
       "  <th>dB</th>    <td>    0.6914</td> <td>    0.364</td> <td>    1.900</td> <td> 0.058</td> <td>   -0.024</td> <td>    1.407</td>\n",
       "</tr>\n",
       "</table>\n",
       "<table class=\"simpletable\">\n",
       "<tr>\n",
       "  <th>Omnibus:</th>       <td>153.579</td> <th>  Durbin-Watson:     </th> <td>   1.827</td> \n",
       "</tr>\n",
       "<tr>\n",
       "  <th>Prob(Omnibus):</th> <td> 0.000</td>  <th>  Jarque-Bera (JB):  </th> <td> 464.207</td> \n",
       "</tr>\n",
       "<tr>\n",
       "  <th>Skew:</th>          <td>-1.511</td>  <th>  Prob(JB):          </th> <td>1.58e-101</td>\n",
       "</tr>\n",
       "<tr>\n",
       "  <th>Kurtosis:</th>      <td> 6.746</td>  <th>  Cond. No.          </th> <td>1.60e+06</td> \n",
       "</tr>\n",
       "</table><br/><br/>Warnings:<br/>[1] Standard Errors assume that the covariance matrix of the errors is correctly specified.<br/>[2] The condition number is large, 1.6e+06. This might indicate that there are<br/>strong multicollinearity or other numerical problems."
      ],
      "text/plain": [
       "<class 'statsmodels.iolib.summary.Summary'>\n",
       "\"\"\"\n",
       "                            OLS Regression Results                            \n",
       "==============================================================================\n",
       "Dep. Variable:                    pop   R-squared:                       0.071\n",
       "Model:                            OLS   Adj. R-squared:                  0.067\n",
       "Method:                 Least Squares   F-statistic:                     18.36\n",
       "Date:                Tue, 24 Nov 2020   Prob (F-statistic):           2.07e-08\n",
       "Time:                        21:51:39   Log-Likelihood:                -1942.2\n",
       "No. Observations:                 481   AIC:                             3890.\n",
       "Df Residuals:                     478   BIC:                             3903.\n",
       "Df Model:                           2                                         \n",
       "Covariance Type:            nonrobust                                         \n",
       "==============================================================================\n",
       "                 coef    std err          t      P>|t|      [0.025      0.975]\n",
       "------------------------------------------------------------------------------\n",
       "const      -2910.5295    498.425     -5.839      0.000   -3889.905   -1931.154\n",
       "year           1.4796      0.248      5.977      0.000       0.993       1.966\n",
       "dB             0.6914      0.364      1.900      0.058      -0.024       1.407\n",
       "==============================================================================\n",
       "Omnibus:                      153.579   Durbin-Watson:                   1.827\n",
       "Prob(Omnibus):                  0.000   Jarque-Bera (JB):              464.207\n",
       "Skew:                          -1.511   Prob(JB):                    1.58e-101\n",
       "Kurtosis:                       6.746   Cond. No.                     1.60e+06\n",
       "==============================================================================\n",
       "\n",
       "Warnings:\n",
       "[1] Standard Errors assume that the covariance matrix of the errors is correctly specified.\n",
       "[2] The condition number is large, 1.6e+06. This might indicate that there are\n",
       "strong multicollinearity or other numerical problems.\n",
       "\"\"\""
      ]
     },
     "execution_count": 11,
     "metadata": {},
     "output_type": "execute_result"
    }
   ],
   "source": [
    "resultados = regress(y_train,df_train)\n",
    "resultados.summary()"
   ]
  },
  {
   "cell_type": "markdown",
   "metadata": {},
   "source": [
    "## Estudos dos resultados"
   ]
  },
  {
   "cell_type": "markdown",
   "metadata": {},
   "source": [
    "Observamos que o coeficiente de ambas as variáveis explicativas está relativamente alta, demonstrando que o alfa escolhido foi coerente pois essas variáveis estão diretamente relacionadas com a popularidade da música. O valor do Prob(Omnibus) por ser muito baixo faz com que os resíduos não estejam distribuídos normalmente( gráfico ilustrando mais abaixo ), violando o modelo de regressão linear."
   ]
  },
  {
   "cell_type": "markdown",
   "metadata": {},
   "source": [
    "**Definição dos parâmetros que serão utilizados**"
   ]
  },
  {
   "cell_type": "code",
   "execution_count": 12,
   "metadata": {},
   "outputs": [],
   "source": [
    "beta0 = resultados.params[0]  \n",
    "beta1 = resultados.params[1]  \n",
    "beta2 = resultados.params[2]"
   ]
  },
  {
   "cell_type": "code",
   "execution_count": 13,
   "metadata": {},
   "outputs": [],
   "source": [
    "def f(feature1, feature2):\n",
    "    return beta0 + beta1*feature1 + beta2*feature2"
   ]
  },
  {
   "cell_type": "code",
   "execution_count": 14,
   "metadata": {},
   "outputs": [],
   "source": [
    "npoints = 100\n",
    "feature1 = df[\"year\"]\n",
    "feature2 = df[\"dB\"]\n",
    "x_vc = np.linspace(feature1.min(), feature1.max(), npoints)\n",
    "y_vc = np.linspace(feature2.min(), feature2.max(), npoints)"
   ]
  },
  {
   "cell_type": "code",
   "execution_count": 15,
   "metadata": {},
   "outputs": [],
   "source": [
    "eixo_x, eixo_y = np.meshgrid(x_vc, y_vc)"
   ]
  },
  {
   "cell_type": "code",
   "execution_count": 16,
   "metadata": {},
   "outputs": [],
   "source": [
    "fit_z = f(eixo_x, eixo_y)"
   ]
  },
  {
   "cell_type": "markdown",
   "metadata": {},
   "source": [
    "# 4 - Análise por regressão linear múltipla"
   ]
  },
  {
   "cell_type": "markdown",
   "metadata": {},
   "source": [
    "## Análise de homocedasticidade"
   ]
  },
  {
   "cell_type": "markdown",
   "metadata": {},
   "source": [
    "Como podemos observar os erros são distantes de uma normal. Com isso, concluímos que o modelo de regressão linear não seria o melhor para modelar essa situação, já que ele assume que os erros seguem uma distribuição próxima a uma normal."
   ]
  },
  {
   "cell_type": "markdown",
   "metadata": {},
   "source": [
    "**Gráfico para análise dos resíduos**"
   ]
  },
  {
   "cell_type": "code",
   "execution_count": 24,
   "metadata": {},
   "outputs": [
    {
     "data": {
      "image/png": "[encoded data removed]",
      "text/plain": [
       "<Figure size 864x576 with 2 Axes>"
      ]
     },
     "metadata": {
      "needs_background": "light"
     },
     "output_type": "display_data"
    }
   ],
   "source": [
    "plt.rcParams['figure.figsize'] = (12,8)\n",
    "\n",
    "plt.subplot(221)\n",
    "stats.probplot(resultados.resid,dist='norm',plot=plt);\n",
    "plt.subplot(222)\n",
    "plt.title('Resíduos x Variável independente')\n",
    "plt.xlabel('Variável independente')\n",
    "plt.ylabel('Resíduos')\n",
    "plt.scatter(y_train,resultados.resid);"
   ]
  },
  {
   "cell_type": "markdown",
   "metadata": {},
   "source": [
    "Como observamos nos gráficos acima, os resíduos não seguem a curva normal e isso irá afetar no resultado final devido o modelo de regressão linear utilizar a normal. Iremos validar nossa hipótese calculando os erros quadrático e absoluto do dataset de teste. "
   ]
  },
  {
   "cell_type": "code",
   "execution_count": 29,
   "metadata": {},
   "outputs": [
    {
     "name": "stdout",
     "output_type": "stream",
     "text": [
      "O erro quadrático é de mais ou menos 14.02 pop\n",
      "O erro absoluto é de mais ou menos 10.7 pop\n"
     ]
    },
    {
     "name": "stderr",
     "output_type": "stream",
     "text": [
      "C:\\Users\\andre\\AppData\\Local\\Continuum\\anaconda3\\lib\\site-packages\\numpy\\core\\fromnumeric.py:2389: FutureWarning: Method .ptp is deprecated and will be removed in a future version. Use numpy.ptp instead.\n",
      "  return ptp(axis=axis, out=out, **kwargs)\n"
     ]
    }
   ],
   "source": [
    "from sklearn.metrics import mean_squared_error\n",
    "from sklearn.metrics import mean_absolute_error\n",
    "\n",
    "results_teste = regress(y_train,x_train)\n",
    "y_predl = results_teste.predict(sm.add_constant(x_test))\n",
    "erro = np.sqrt(mean_squared_error(y_test,y_predl))\n",
    "erro2 = mean_absolute_error(y_test,y_predl)\n",
    "print('O erro quadrático é de mais ou menos {} pop'.format(erro.round(2)))\n",
    "print('O erro absoluto é de mais ou menos {} pop'.format(erro2.round(2)))"
   ]
  },
  {
   "cell_type": "markdown",
   "metadata": {},
   "source": [
    "### Como foi previsto, o erro obtido foi relativamente alto validando a nossa suspeita."
   ]
  },
  {
   "cell_type": "markdown",
   "metadata": {},
   "source": [
    "# 5 - Modelo de regressão random forest"
   ]
  },
  {
   "cell_type": "markdown",
   "metadata": {},
   "source": [
    "Iniciamos a regressão pelo método random forest já que os valores obtidos com a regrassão linear não foram satisfatórios."
   ]
  },
  {
   "cell_type": "code",
   "execution_count": 30,
   "metadata": {},
   "outputs": [
    {
     "name": "stdout",
     "output_type": "stream",
     "text": [
      "O erro quadrático é de mais ou menos 14.25 pop\n",
      "O erro absoluto é de mais ou menos 10.63 pop\n"
     ]
    }
   ],
   "source": [
    "from sklearn.ensemble import RandomForestRegressor\n",
    "\n",
    "regressor = RandomForestRegressor(n_estimators = 100) \n",
    "\n",
    "regressor.fit(x_train,y_train)\n",
    "\n",
    "y_predr = regressor.predict(x_test)\n",
    "\n",
    "erro = np.sqrt(mean_squared_error(y_test,y_predr))\n",
    "erro2 = mean_absolute_error(y_test,y_predr)\n",
    "print('O erro quadrático é de mais ou menos {} pop'.format(erro.round(2)))\n",
    "print('O erro absoluto é de mais ou menos {} pop'.format(erro2.round(2)))"
   ]
  },
  {
   "cell_type": "markdown",
   "metadata": {},
   "source": [
    "### Observamos que os valores dos erros da regressão random forest foram muito semelhantes com a regressão linear, fazendo com que sua eficiência não seja muito positiva em nossa análise."
   ]
  },
  {
   "cell_type": "markdown",
   "metadata": {},
   "source": [
    "Podemos notar uma semelhança grande entre os histogramas, isso é coerente já que os erros de ambos é muito parecido."
   ]
  },
  {
   "cell_type": "markdown",
   "metadata": {},
   "source": [
    "**Histograma de ambos os modelos para comparação**"
   ]
  },
  {
   "cell_type": "code",
   "execution_count": 21,
   "metadata": {},
   "outputs": [
    {
     "data": {
      "image/png": "[encoded data removed]",
      "text/plain": [
       "<Figure size 864x576 with 2 Axes>"
      ]
     },
     "metadata": {
      "needs_background": "light"
     },
     "output_type": "display_data"
    }
   ],
   "source": [
    "plt.rcParams['figure.figsize'] = (12,8)\n",
    "\n",
    "#Regressão Forest\n",
    "plt.subplot(221)\n",
    "plt.title('Regressão Forest')\n",
    "plt.hist(y_test - y_predr, bins = 50);\n",
    "\n",
    "#Regressão Linear\n",
    "plt.subplot(222)\n",
    "plt.title('Regressão Linear')\n",
    "plt.hist(y_test - y_predl, bins = 50);"
   ]
  }
 ],
 "metadata": {
  "kernelspec": {
   "display_name": "Python 3",
   "language": "python",
   "name": "python3"
  },
  "language_info": {
   "codemirror_mode": {
    "name": "ipython",
    "version": 3
   },
   "file_extension": ".py",
   "mimetype": "text/x-python",
   "name": "python",
   "nbconvert_exporter": "python",
   "pygments_lexer": "ipython3",
   "version": "3.7.4"
  }
 },
 "nbformat": 4,
 "nbformat_minor": 4
}
